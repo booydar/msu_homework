{
 "cells": [
  {
   "cell_type": "markdown",
   "metadata": {},
   "source": [
    "**Общая информация**\n",
    "\n",
    "**Срок сдачи:** 20 марта 2019, 06:00 <br\\>\n",
    "**Штраф за опоздание:** -1 балл после 06:00 20 марта, -2 балла после 06:00 27 марта, -3 балла после 06:00 3 апреля\n",
    "\n",
    "При отправлении ДЗ указывайте фамилию в названии файла\n",
    "Присылать ДЗ необходимо в виде ссылки на свой github репозиторий в slack @alkhamush\n",
    "\n",
    "Необходимо в slack скинуть ссылку в личный чат @alkhamush\n",
    "Пример ссылки:\n",
    "https://github.com/stroykova/spheremailru/stroykova_hw1.ipynb \n",
    "\n",
    "\n",
    "Используйте данный Ipython Notebook при оформлении домашнего задания."
   ]
  },
  {
   "cell_type": "markdown",
   "metadata": {},
   "source": [
    "###### Задание 1 (2 баллов)\n",
    "Реализовать KNN в классе MyKNeighborsClassifier (обязательное условие: точность не ниже sklearn реализации)\n",
    "Разберитесь самостоятельно, какая мера расстояния используется в KNeighborsClassifier дефолтно и реализуйте свой алгоритм именно с этой мерой. Самостоятельно разберитесь, как считается score из KNeighborsClassifier и реализуйте аналог в своём классе. Score не должен уступать значению KNN из sklearn\n",
    "\n",
    "###### Задание 2 (2 балла)\n",
    "Добиться скорости работы на fit,  predict и predict_proba сравнимой со sklearn для iris и mnist\n",
    "Для этого используем numpy\n",
    "\n",
    "###### Задание 3 (2 балла)\n",
    "Для iris найдите такой параметр n_neighbors, при котором выдаётся наилучший score. Нарисуйте график зависимости score от n_neighbors\n",
    "\n",
    "###### Задание 4 (3 балла)\n",
    "Добавить algorithm='kd_tree' в реализацию KNN (использовать KDTree из sklearn.neighbors). Значение n_neighbors нужно взять из задания 3. Добиться скорости работы на fit,  predict и predict_proba сравнимой со sklearn для iris и mnist\n",
    "Для этого используем numpy. Score не должен уступать значению KNN из sklearn\n",
    "\n",
    "###### Задание 5 (1 балла)\n",
    "Описать для чего нужны следующие библиотеки/классы/функции (список будет ниже)\n",
    "\n",
    "**Штрафные баллы:**\n",
    "\n",
    "1. Невыполнение PEP8 -1 балл\n",
    "2. Отсутствие фамилии в имени скрипта (скрипт должен называться по аналогии со stroykova_hw1.ipynb) -1 балл\n",
    "3. Все строчки должны быть выполнены. Нужно, чтобы output команды можно было увидеть уже в git'е. В противном случае -1 балл\n",
    "4. При оформлении ДЗ нужно пользоваться данным файлом в качестве шаблона. Не нужно удалять и видоизменять структуру кода и текст. В противном случае -1 балл\n"
   ]
  },
  {
   "cell_type": "code",
   "execution_count": 1,
   "metadata": {},
   "outputs": [],
   "source": [
    "import numpy as np\n",
    "import matplotlib.pyplot as plt\n",
    "\n",
    "import seaborn as sns\n",
    "import warnings\n",
    "from sklearn import datasets\n",
    "from sklearn.base import ClassifierMixin\n",
    "from sklearn.datasets import fetch_mldata\n",
    "from sklearn.neighbors.base import NeighborsBase, KNeighborsMixin, SupervisedIntegerMixin \n",
    "from sklearn.model_selection import train_test_split\n",
    "from sklearn.neighbors import KNeighborsClassifier, KDTree\n",
    "from torchvision.datasets import MNIST\n",
    "#%load_ext pycodestyle_magic"
   ]
  },
  {
   "cell_type": "code",
   "execution_count": 2,
   "metadata": {},
   "outputs": [],
   "source": [
    "#%%pycodestyle\n",
    "\n",
    "class MyKNeighborsClassifier(NeighborsBase, KNeighborsMixin,\n",
    "                             SupervisedIntegerMixin, ClassifierMixin):\n",
    "\n",
    "    def __init__(self, n_neighbors, algorithm='brute'):\n",
    "        self.n_neighbors = n_neighbors\n",
    "        self.algorithm = algorithm\n",
    "\n",
    "    def fit(self, X, y):\n",
    "        self.X = np.array(X).astype(float)\n",
    "        self.y = np.array(y)\n",
    "        self.classes = np.unique(y)\n",
    "        if self.algorithm == 'kd_tree':\n",
    "            self.kdtree = KDTree(self.X)\n",
    "        return self\n",
    "\n",
    "    def _predict(self, X):\n",
    "        X = np.asarray(X).astype(float)\n",
    "        if self.algorithm == 'brute':\n",
    "            x1 = np.sum(np.square(X), axis=1).reshape(-1, 1)\n",
    "            x2 = np.sum(np.square(self.X), axis=1).reshape(1, -1)\n",
    "            D = np.sqrt(x1+x2-2*np.matmul(X, self.X.T))\n",
    "            D = D.argpartition(self.n_neighbors)[:, :self.n_neighbors]\n",
    "        else:\n",
    "            dist, D = self.kdtree.query(X, k=self.n_neighbors)\n",
    "        pred = self.y[np.ravel(D)].reshape(-1, self.n_neighbors)\n",
    "        return pred\n",
    "\n",
    "    def predict(self, X):\n",
    "        return np.array([np.bincount(x).argmax() for x in\n",
    "                        self._predict(X)])\n",
    "\n",
    "    def predict_proba(self, X):\n",
    "        return np.apply_along_axis(lambda x: np.bincount(x,\n",
    "                                   minlength=self.classes.size) /\n",
    "                                   self.n_neighbors, axis=1,\n",
    "                                   arr=self._predict(X))\n",
    "\n",
    "    def score(self, X, y):\n",
    "        x = self.predict(X)\n",
    "        mask_t = np.asarray(np.where(x == y))\n",
    "        mask_f = np.asarray(np.where(x != y))\n",
    "        return mask_t.shape[1] / (mask_t.shape[1] + mask_f.shape[1])\n"
   ]
  },
  {
   "cell_type": "markdown",
   "metadata": {},
   "source": [
    "**IRIS**"
   ]
  },
  {
   "cell_type": "code",
   "execution_count": 3,
   "metadata": {},
   "outputs": [],
   "source": [
    "iris = datasets.load_iris()"
   ]
  },
  {
   "cell_type": "code",
   "execution_count": 4,
   "metadata": {},
   "outputs": [],
   "source": [
    "X_train, X_test, y_train, y_test = train_test_split(iris.data, iris.target, test_size=0.1, stratify=iris.target)"
   ]
  },
  {
   "cell_type": "code",
   "execution_count": 5,
   "metadata": {},
   "outputs": [],
   "source": [
    "clf = KNeighborsClassifier(n_neighbors=2, algorithm= 'brute')\n",
    "my_clf = MyKNeighborsClassifier(n_neighbors=2)"
   ]
  },
  {
   "cell_type": "code",
   "execution_count": 6,
   "metadata": {},
   "outputs": [
    {
     "name": "stdout",
     "output_type": "stream",
     "text": [
      "Wall time: 997 µs\n"
     ]
    },
    {
     "data": {
      "text/plain": [
       "KNeighborsClassifier(algorithm='brute', leaf_size=30, metric='minkowski',\n",
       "           metric_params=None, n_jobs=None, n_neighbors=2, p=2,\n",
       "           weights='uniform')"
      ]
     },
     "execution_count": 6,
     "metadata": {},
     "output_type": "execute_result"
    }
   ],
   "source": [
    "%time clf.fit(X_train, y_train)"
   ]
  },
  {
   "cell_type": "code",
   "execution_count": 7,
   "metadata": {},
   "outputs": [
    {
     "name": "stdout",
     "output_type": "stream",
     "text": [
      "Wall time: 0 ns\n"
     ]
    },
    {
     "data": {
      "text/plain": [
       "MyKNeighborsClassifier(algorithm='brute', n_neighbors=2)"
      ]
     },
     "execution_count": 7,
     "metadata": {},
     "output_type": "execute_result"
    }
   ],
   "source": [
    "%time my_clf.fit(X_train, y_train)"
   ]
  },
  {
   "cell_type": "code",
   "execution_count": 8,
   "metadata": {},
   "outputs": [
    {
     "name": "stdout",
     "output_type": "stream",
     "text": [
      "Wall time: 998 µs\n"
     ]
    },
    {
     "data": {
      "text/plain": [
       "array([0, 0, 2, 0, 0, 1, 1, 2, 2, 2, 2, 2, 0, 1, 1])"
      ]
     },
     "execution_count": 8,
     "metadata": {},
     "output_type": "execute_result"
    }
   ],
   "source": [
    "%time clf.predict(X_test)"
   ]
  },
  {
   "cell_type": "code",
   "execution_count": 9,
   "metadata": {},
   "outputs": [
    {
     "name": "stdout",
     "output_type": "stream",
     "text": [
      "Wall time: 0 ns\n"
     ]
    },
    {
     "data": {
      "text/plain": [
       "array([0, 0, 2, 0, 0, 1, 1, 2, 2, 2, 2, 2, 0, 1, 1], dtype=int64)"
      ]
     },
     "execution_count": 9,
     "metadata": {},
     "output_type": "execute_result"
    }
   ],
   "source": [
    "%time my_clf.predict(X_test)"
   ]
  },
  {
   "cell_type": "code",
   "execution_count": 10,
   "metadata": {},
   "outputs": [
    {
     "name": "stdout",
     "output_type": "stream",
     "text": [
      "Wall time: 997 µs\n"
     ]
    },
    {
     "data": {
      "text/plain": [
       "array([[1., 0., 0.],\n",
       "       [1., 0., 0.],\n",
       "       [0., 0., 1.],\n",
       "       [1., 0., 0.],\n",
       "       [1., 0., 0.],\n",
       "       [0., 1., 0.],\n",
       "       [0., 1., 0.],\n",
       "       [0., 0., 1.],\n",
       "       [0., 0., 1.],\n",
       "       [0., 0., 1.],\n",
       "       [0., 0., 1.],\n",
       "       [0., 0., 1.],\n",
       "       [1., 0., 0.],\n",
       "       [0., 1., 0.],\n",
       "       [0., 1., 0.]])"
      ]
     },
     "execution_count": 10,
     "metadata": {},
     "output_type": "execute_result"
    }
   ],
   "source": [
    "%time clf.predict_proba(X_test)"
   ]
  },
  {
   "cell_type": "code",
   "execution_count": 11,
   "metadata": {},
   "outputs": [
    {
     "name": "stdout",
     "output_type": "stream",
     "text": [
      "Wall time: 998 µs\n"
     ]
    },
    {
     "data": {
      "text/plain": [
       "array([[1., 0., 0.],\n",
       "       [1., 0., 0.],\n",
       "       [0., 0., 1.],\n",
       "       [1., 0., 0.],\n",
       "       [1., 0., 0.],\n",
       "       [0., 1., 0.],\n",
       "       [0., 1., 0.],\n",
       "       [0., 0., 1.],\n",
       "       [0., 0., 1.],\n",
       "       [0., 0., 1.],\n",
       "       [0., 0., 1.],\n",
       "       [0., 0., 1.],\n",
       "       [1., 0., 0.],\n",
       "       [0., 1., 0.],\n",
       "       [0., 1., 0.]])"
      ]
     },
     "execution_count": 11,
     "metadata": {},
     "output_type": "execute_result"
    }
   ],
   "source": [
    "%time my_clf.predict_proba(X_test)"
   ]
  },
  {
   "cell_type": "code",
   "execution_count": 12,
   "metadata": {},
   "outputs": [
    {
     "data": {
      "text/plain": [
       "0.9333333333333333"
      ]
     },
     "execution_count": 12,
     "metadata": {},
     "output_type": "execute_result"
    }
   ],
   "source": [
    "clf.score(X_test, y_test)"
   ]
  },
  {
   "cell_type": "code",
   "execution_count": 13,
   "metadata": {},
   "outputs": [
    {
     "data": {
      "text/plain": [
       "0.9333333333333333"
      ]
     },
     "execution_count": 13,
     "metadata": {},
     "output_type": "execute_result"
    }
   ],
   "source": [
    "my_clf.score(X_test, y_test)"
   ]
  },
  {
   "cell_type": "markdown",
   "metadata": {},
   "source": [
    "Задание 3"
   ]
  },
  {
   "cell_type": "code",
   "execution_count": 14,
   "metadata": {},
   "outputs": [
    {
     "data": {
      "text/plain": [
       "array([0.95793333, 0.94693333, 0.96053333, 0.95693333, 0.9638    ,\n",
       "       0.958     , 0.96573333, 0.96773333, 0.96886667, 0.97086667,\n",
       "       0.97133333, 0.96526667, 0.9746    , 0.97173333, 0.97453333,\n",
       "       0.97166667, 0.97506667, 0.969     , 0.97046667, 0.966     ,\n",
       "       0.96426667, 0.9622    , 0.9654    , 0.9562    , 0.96153333,\n",
       "       0.95053333, 0.95333333, 0.9462    , 0.95      , 0.95113333,\n",
       "       0.95273333, 0.94766667, 0.94913333, 0.946     , 0.94773333,\n",
       "       0.946     , 0.94546667, 0.94406667, 0.948     , 0.94633333])"
      ]
     },
     "execution_count": 14,
     "metadata": {},
     "output_type": "execute_result"
    }
   ],
   "source": [
    "scores = np.zeros(40)\n",
    "for i in range(1, 41):\n",
    "    avg_score = 0\n",
    "    for j in range(1000):\n",
    "        X_train, X_test, y_train, y_test = train_test_split(\n",
    "                                           iris.data,\n",
    "                                           iris.target,\n",
    "                                           test_size=0.1,\n",
    "                                           stratify=iris.target)\n",
    "        my_clf = MyKNeighborsClassifier(n_neighbors=i)\n",
    "        my_clf.fit(X_train, y_train)\n",
    "        my_clf.predict(X_test)\n",
    "        avg_score += my_clf.score(X_test, y_test)\n",
    "    avg_score /= 1000\n",
    "    scores[i-1] = avg_score\n",
    "scores\n"
   ]
  },
  {
   "cell_type": "code",
   "execution_count": 15,
   "metadata": {},
   "outputs": [
    {
     "data": {
      "text/plain": [
       "17"
      ]
     },
     "execution_count": 15,
     "metadata": {},
     "output_type": "execute_result"
    }
   ],
   "source": [
    "K = np.argmax(scores)+1\n",
    "K"
   ]
  },
  {
   "cell_type": "code",
   "execution_count": 16,
   "metadata": {},
   "outputs": [
    {
     "data": {
      "text/plain": [
       "[<matplotlib.lines.Line2D at 0x21e33caedd8>]"
      ]
     },
     "execution_count": 16,
     "metadata": {},
     "output_type": "execute_result"
    },
    {
     "data": {
      "image/png": "[encoded data removed]",
      "text/plain": [
       "<Figure size 1008x576 with 1 Axes>"
      ]
     },
     "metadata": {
      "needs_background": "light"
     },
     "output_type": "display_data"
    }
   ],
   "source": [
    "fig = plt.figure(figsize=(14, 8))\n",
    "ax = fig.add_subplot(211)\n",
    "ax.set_xlabel('n_neighbors')\n",
    "ax.set_ylabel('Score')\n",
    "ax.plot(np.linspace(1, 40, 40), scores)\n",
    "ax.plot(K, scores[K-1], 'ro')\n"
   ]
  },
  {
   "cell_type": "markdown",
   "metadata": {},
   "source": [
    "**MNIST**"
   ]
  },
  {
   "cell_type": "code",
   "execution_count": 17,
   "metadata": {},
   "outputs": [],
   "source": [
    "#mnist = fetch_mldata('MNIST original') mldata is down"
   ]
  },
  {
   "cell_type": "code",
   "execution_count": 18,
   "metadata": {
    "scrolled": true
   },
   "outputs": [
    {
     "name": "stdout",
     "output_type": "stream",
     "text": [
      "Downloading http://yann.lecun.com/exdb/mnist/train-images-idx3-ubyte.gz to .\\MNIST\\raw\\train-images-idx3-ubyte.gz\n"
     ]
    },
    {
     "name": "stderr",
     "output_type": "stream",
     "text": [
      "9920512it [00:04, 2361921.79it/s]                                                                                      \n"
     ]
    },
    {
     "name": "stdout",
     "output_type": "stream",
     "text": [
      "Extracting .\\MNIST\\raw\\train-images-idx3-ubyte.gz\n",
      "Downloading http://yann.lecun.com/exdb/mnist/train-labels-idx1-ubyte.gz to .\\MNIST\\raw\\train-labels-idx1-ubyte.gz\n"
     ]
    },
    {
     "name": "stderr",
     "output_type": "stream",
     "text": [
      "32768it [00:00, 83047.95it/s]                                                                                          \n"
     ]
    },
    {
     "name": "stdout",
     "output_type": "stream",
     "text": [
      "Extracting .\\MNIST\\raw\\train-labels-idx1-ubyte.gz\n",
      "Downloading http://yann.lecun.com/exdb/mnist/t10k-images-idx3-ubyte.gz to .\\MNIST\\raw\\t10k-images-idx3-ubyte.gz\n"
     ]
    },
    {
     "name": "stderr",
     "output_type": "stream",
     "text": [
      "1654784it [00:01, 1050460.73it/s]                                                                                      \n"
     ]
    },
    {
     "name": "stdout",
     "output_type": "stream",
     "text": [
      "Extracting .\\MNIST\\raw\\t10k-images-idx3-ubyte.gz\n",
      "Downloading http://yann.lecun.com/exdb/mnist/t10k-labels-idx1-ubyte.gz to .\\MNIST\\raw\\t10k-labels-idx1-ubyte.gz\n"
     ]
    },
    {
     "name": "stderr",
     "output_type": "stream",
     "text": [
      "8192it [00:00, 31559.41it/s]                                                                                           \n"
     ]
    },
    {
     "name": "stdout",
     "output_type": "stream",
     "text": [
      "Extracting .\\MNIST\\raw\\t10k-labels-idx1-ubyte.gz\n",
      "Processing...\n",
      "Done!\n"
     ]
    }
   ],
   "source": [
    "warnings.filterwarnings('ignore')\n",
    "m_l_tr = MNIST('.', train=True, download=True, transform=None)\n",
    "X_1, y_1 = m_l_tr.train_data.numpy().reshape(60000, 784), m_l_tr.train_labels.numpy()\n",
    "m_l_t = MNIST('.', train=False, download=True, transform=None)\n",
    "X_2, y_2 = m_l_t.test_data.numpy().reshape(10000, 784), m_l_t.test_labels.numpy()\n",
    "X = np.concatenate((X_1, X_2))\n",
    "y = np.concatenate((y_1, y_2))\n",
    "mnist = {'data': X, 'target': y}\n"
   ]
  },
  {
   "cell_type": "code",
   "execution_count": 19,
   "metadata": {},
   "outputs": [],
   "source": [
    "X_train, X_test, y_train, y_test = train_test_split(mnist['data'], mnist['target'], test_size=0.01, stratify=mnist['target'])"
   ]
  },
  {
   "cell_type": "code",
   "execution_count": 20,
   "metadata": {},
   "outputs": [],
   "source": [
    "clf = KNeighborsClassifier(n_neighbors=K)\n",
    "my_clf = MyKNeighborsClassifier(n_neighbors=K)"
   ]
  },
  {
   "cell_type": "code",
   "execution_count": 21,
   "metadata": {},
   "outputs": [
    {
     "name": "stdout",
     "output_type": "stream",
     "text": [
      "Wall time: 30.2 s\n"
     ]
    },
    {
     "data": {
      "text/plain": [
       "KNeighborsClassifier(algorithm='auto', leaf_size=30, metric='minkowski',\n",
       "           metric_params=None, n_jobs=None, n_neighbors=17, p=2,\n",
       "           weights='uniform')"
      ]
     },
     "execution_count": 21,
     "metadata": {},
     "output_type": "execute_result"
    }
   ],
   "source": [
    "%time clf.fit(X_train, y_train)"
   ]
  },
  {
   "cell_type": "code",
   "execution_count": 22,
   "metadata": {},
   "outputs": [
    {
     "name": "stdout",
     "output_type": "stream",
     "text": [
      "Wall time: 222 ms\n"
     ]
    },
    {
     "data": {
      "text/plain": [
       "MyKNeighborsClassifier(algorithm='brute', n_neighbors=17)"
      ]
     },
     "execution_count": 22,
     "metadata": {},
     "output_type": "execute_result"
    }
   ],
   "source": [
    "%time my_clf.fit(X_train, y_train)"
   ]
  },
  {
   "cell_type": "code",
   "execution_count": 23,
   "metadata": {},
   "outputs": [
    {
     "name": "stdout",
     "output_type": "stream",
     "text": [
      "Wall time: 1min 32s\n"
     ]
    },
    {
     "data": {
      "text/plain": [
       "array([8, 6, 7, 3, 7, 9, 8, 3, 7, 1, 1, 9, 1, 7, 6, 6, 2, 4, 5, 1, 4, 1,\n",
       "       5, 4, 9, 7, 0, 3, 6, 6, 2, 5, 3, 0, 7, 2, 3, 7, 4, 2, 3, 2, 7, 1,\n",
       "       7, 0, 8, 2, 4, 1, 3, 5, 1, 2, 6, 3, 0, 7, 6, 4, 8, 5, 9, 2, 4, 8,\n",
       "       3, 0, 9, 1, 8, 5, 9, 0, 9, 7, 7, 4, 9, 0, 0, 5, 0, 7, 4, 5, 9, 7,\n",
       "       4, 5, 7, 6, 2, 6, 3, 3, 5, 7, 9, 6, 8, 1, 2, 2, 6, 5, 8, 5, 1, 5,\n",
       "       7, 6, 2, 1, 3, 5, 9, 5, 0, 6, 1, 9, 5, 8, 2, 3, 1, 8, 3, 7, 8, 2,\n",
       "       0, 1, 7, 7, 7, 2, 3, 8, 4, 9, 0, 0, 8, 4, 6, 1, 7, 1, 3, 8, 1, 0,\n",
       "       8, 4, 1, 1, 6, 2, 2, 6, 6, 6, 0, 5, 2, 7, 6, 0, 2, 6, 9, 4, 1, 5,\n",
       "       2, 8, 8, 5, 9, 0, 6, 1, 3, 4, 7, 3, 0, 2, 3, 0, 3, 5, 3, 5, 6, 4,\n",
       "       5, 8, 2, 8, 7, 7, 3, 7, 5, 6, 3, 9, 8, 9, 6, 4, 8, 1, 0, 0, 3, 5,\n",
       "       1, 6, 3, 0, 5, 3, 1, 3, 5, 2, 8, 8, 2, 7, 1, 7, 7, 7, 1, 7, 7, 1,\n",
       "       6, 4, 5, 9, 2, 2, 4, 3, 8, 0, 7, 6, 0, 3, 9, 0, 4, 4, 7, 9, 5, 9,\n",
       "       1, 9, 8, 4, 6, 3, 4, 0, 1, 5, 7, 0, 0, 0, 2, 1, 8, 8, 8, 4, 3, 0,\n",
       "       3, 3, 1, 5, 0, 0, 4, 3, 6, 2, 5, 4, 5, 9, 3, 2, 0, 7, 0, 7, 3, 6,\n",
       "       2, 5, 9, 3, 6, 6, 5, 6, 7, 8, 1, 2, 4, 1, 0, 1, 2, 0, 3, 5, 2, 1,\n",
       "       3, 8, 7, 4, 0, 0, 9, 6, 7, 7, 8, 6, 9, 2, 8, 0, 3, 7, 7, 1, 1, 6,\n",
       "       3, 2, 3, 8, 1, 2, 0, 4, 1, 1, 0, 9, 2, 2, 4, 1, 9, 8, 8, 1, 0, 4,\n",
       "       1, 1, 3, 0, 4, 7, 6, 7, 7, 3, 9, 6, 8, 6, 0, 2, 9, 2, 0, 7, 4, 1,\n",
       "       1, 2, 2, 1, 1, 6, 9, 5, 0, 7, 4, 5, 6, 7, 5, 8, 4, 1, 6, 6, 1, 9,\n",
       "       1, 9, 7, 2, 1, 0, 0, 9, 8, 2, 9, 8, 2, 6, 9, 0, 6, 5, 3, 0, 6, 7,\n",
       "       7, 4, 1, 3, 8, 7, 9, 9, 9, 6, 4, 0, 3, 5, 1, 6, 5, 9, 2, 4, 9, 7,\n",
       "       8, 1, 5, 3, 3, 0, 9, 1, 8, 0, 9, 7, 6, 8, 3, 8, 3, 3, 2, 1, 7, 9,\n",
       "       5, 2, 9, 4, 0, 2, 0, 3, 1, 6, 0, 6, 3, 9, 0, 9, 4, 7, 9, 9, 5, 0,\n",
       "       9, 0, 2, 5, 8, 2, 3, 8, 0, 4, 2, 1, 9, 7, 0, 9, 3, 6, 1, 4, 9, 2,\n",
       "       9, 6, 9, 2, 4, 3, 1, 3, 4, 8, 3, 8, 6, 8, 7, 8, 6, 6, 8, 5, 9, 6,\n",
       "       4, 2, 1, 1, 0, 4, 0, 8, 3, 1, 3, 0, 3, 3, 0, 5, 4, 8, 1, 9, 1, 9,\n",
       "       5, 2, 7, 3, 8, 6, 4, 5, 5, 4, 0, 0, 3, 9, 4, 2, 4, 4, 1, 5, 9, 0,\n",
       "       8, 4, 1, 1, 6, 1, 6, 1, 0, 7, 0, 4, 3, 7, 1, 6, 4, 6, 7, 9, 3, 3,\n",
       "       6, 4, 6, 7, 1, 8, 9, 3, 1, 7, 2, 7, 6, 1, 4, 1, 6, 4, 7, 9, 5, 9,\n",
       "       2, 2, 7, 1, 5, 8, 6, 6, 8, 0, 9, 7, 9, 1, 2, 3, 2, 1, 1, 9, 4, 6,\n",
       "       6, 8, 1, 6, 9, 7, 1, 8, 2, 1, 2, 5, 1, 1, 4, 4, 5, 7, 9, 4, 2, 5,\n",
       "       5, 1, 9, 7, 5, 5, 8, 7, 1, 2, 8, 3, 4, 2, 4, 1, 5, 4], dtype=int64)"
      ]
     },
     "execution_count": 23,
     "metadata": {},
     "output_type": "execute_result"
    }
   ],
   "source": [
    "%time clf.predict(X_test)"
   ]
  },
  {
   "cell_type": "code",
   "execution_count": 24,
   "metadata": {},
   "outputs": [
    {
     "name": "stdout",
     "output_type": "stream",
     "text": [
      "Wall time: 2.69 s\n"
     ]
    },
    {
     "data": {
      "text/plain": [
       "array([8, 6, 7, 3, 7, 9, 8, 3, 7, 1, 1, 9, 1, 7, 6, 6, 2, 4, 5, 1, 4, 1,\n",
       "       5, 4, 9, 7, 0, 3, 6, 6, 2, 5, 3, 0, 7, 2, 3, 7, 4, 2, 3, 2, 7, 1,\n",
       "       7, 0, 8, 2, 4, 1, 3, 5, 1, 2, 6, 3, 0, 7, 6, 4, 8, 5, 9, 2, 4, 8,\n",
       "       3, 0, 9, 1, 8, 5, 9, 0, 9, 7, 7, 4, 9, 0, 0, 5, 0, 7, 4, 5, 9, 7,\n",
       "       4, 5, 7, 6, 2, 6, 3, 3, 5, 7, 9, 6, 8, 1, 2, 2, 6, 5, 8, 5, 1, 5,\n",
       "       7, 6, 2, 1, 3, 5, 9, 5, 0, 6, 1, 9, 5, 8, 2, 3, 1, 8, 3, 7, 8, 2,\n",
       "       0, 1, 7, 7, 7, 2, 3, 8, 4, 9, 0, 0, 8, 4, 6, 1, 7, 1, 3, 8, 1, 0,\n",
       "       8, 4, 1, 1, 6, 2, 2, 6, 6, 6, 0, 5, 2, 7, 6, 0, 2, 6, 9, 4, 1, 5,\n",
       "       2, 8, 8, 5, 9, 0, 6, 1, 3, 4, 7, 3, 0, 2, 3, 0, 3, 5, 3, 5, 6, 4,\n",
       "       5, 8, 2, 8, 7, 7, 3, 7, 5, 6, 3, 9, 8, 9, 6, 4, 8, 1, 0, 0, 3, 5,\n",
       "       1, 6, 3, 0, 5, 3, 1, 3, 5, 2, 8, 8, 2, 7, 1, 7, 7, 7, 1, 7, 7, 1,\n",
       "       6, 4, 5, 9, 2, 2, 4, 3, 8, 0, 7, 6, 0, 3, 9, 0, 4, 4, 7, 9, 5, 9,\n",
       "       1, 9, 8, 4, 6, 3, 4, 0, 1, 5, 7, 0, 0, 0, 2, 1, 8, 8, 8, 4, 3, 0,\n",
       "       3, 3, 1, 5, 0, 0, 4, 3, 6, 2, 5, 4, 5, 9, 3, 2, 0, 7, 0, 7, 3, 6,\n",
       "       2, 5, 9, 3, 6, 6, 5, 6, 7, 8, 1, 2, 4, 1, 0, 1, 2, 0, 3, 5, 2, 1,\n",
       "       3, 8, 7, 4, 0, 0, 9, 6, 7, 7, 8, 6, 9, 2, 8, 0, 3, 7, 7, 1, 1, 6,\n",
       "       3, 2, 3, 8, 1, 2, 0, 4, 1, 1, 0, 9, 2, 2, 4, 1, 9, 8, 8, 1, 0, 4,\n",
       "       1, 1, 3, 0, 4, 7, 6, 7, 7, 3, 9, 6, 8, 6, 0, 2, 9, 2, 0, 7, 4, 1,\n",
       "       1, 2, 2, 1, 1, 6, 9, 5, 0, 7, 4, 5, 6, 7, 5, 8, 4, 1, 6, 6, 1, 9,\n",
       "       1, 9, 7, 2, 1, 0, 0, 9, 8, 2, 9, 8, 2, 6, 9, 0, 6, 5, 3, 0, 6, 7,\n",
       "       7, 4, 1, 3, 8, 7, 9, 9, 9, 6, 4, 0, 3, 5, 1, 6, 5, 9, 2, 4, 9, 7,\n",
       "       8, 1, 5, 3, 3, 0, 9, 1, 8, 0, 9, 7, 6, 8, 3, 8, 3, 3, 2, 1, 7, 9,\n",
       "       5, 2, 9, 4, 0, 2, 0, 3, 1, 6, 0, 6, 3, 9, 0, 9, 4, 7, 9, 9, 5, 0,\n",
       "       9, 0, 2, 5, 8, 2, 3, 8, 0, 4, 2, 1, 9, 7, 0, 9, 3, 6, 1, 4, 9, 2,\n",
       "       9, 6, 9, 2, 4, 3, 1, 3, 4, 8, 3, 8, 6, 8, 7, 8, 6, 6, 8, 5, 9, 6,\n",
       "       4, 2, 1, 1, 0, 4, 0, 8, 3, 1, 3, 0, 3, 3, 0, 5, 4, 8, 1, 9, 1, 9,\n",
       "       5, 2, 7, 3, 8, 6, 4, 5, 5, 4, 0, 0, 3, 9, 4, 2, 4, 4, 1, 5, 9, 0,\n",
       "       8, 4, 1, 1, 6, 1, 6, 1, 0, 7, 0, 4, 3, 7, 1, 6, 4, 6, 7, 9, 3, 3,\n",
       "       6, 4, 6, 7, 1, 8, 9, 3, 1, 7, 2, 7, 6, 1, 4, 1, 6, 4, 7, 9, 5, 9,\n",
       "       2, 2, 7, 1, 5, 8, 6, 6, 8, 0, 9, 7, 9, 1, 2, 3, 2, 1, 1, 9, 4, 6,\n",
       "       6, 8, 1, 6, 9, 7, 1, 8, 2, 1, 2, 5, 1, 1, 4, 4, 5, 7, 9, 4, 2, 5,\n",
       "       5, 1, 9, 7, 5, 5, 8, 7, 1, 2, 8, 3, 4, 2, 4, 1, 5, 4], dtype=int64)"
      ]
     },
     "execution_count": 24,
     "metadata": {},
     "output_type": "execute_result"
    }
   ],
   "source": [
    "%time my_clf.predict(X_test)"
   ]
  },
  {
   "cell_type": "code",
   "execution_count": 25,
   "metadata": {},
   "outputs": [
    {
     "name": "stdout",
     "output_type": "stream",
     "text": [
      "Wall time: 1min 32s\n"
     ]
    },
    {
     "data": {
      "text/plain": [
       "array([[0.        , 0.        , 0.        , ..., 0.        , 1.        ,\n",
       "        0.        ],\n",
       "       [0.        , 0.        , 0.        , ..., 0.        , 0.        ,\n",
       "        0.        ],\n",
       "       [0.        , 0.        , 0.        , ..., 1.        , 0.        ,\n",
       "        0.        ],\n",
       "       ...,\n",
       "       [0.        , 0.76470588, 0.17647059, ..., 0.05882353, 0.        ,\n",
       "        0.        ],\n",
       "       [0.        , 0.        , 0.        , ..., 0.        , 0.        ,\n",
       "        0.        ],\n",
       "       [0.        , 0.        , 0.        , ..., 0.        , 0.        ,\n",
       "        0.        ]])"
      ]
     },
     "execution_count": 25,
     "metadata": {},
     "output_type": "execute_result"
    }
   ],
   "source": [
    "%time clf.predict_proba(X_test)"
   ]
  },
  {
   "cell_type": "code",
   "execution_count": 26,
   "metadata": {},
   "outputs": [
    {
     "name": "stdout",
     "output_type": "stream",
     "text": [
      "Wall time: 3.35 s\n"
     ]
    },
    {
     "data": {
      "text/plain": [
       "array([[0.        , 0.        , 0.        , ..., 0.        , 1.        ,\n",
       "        0.        ],\n",
       "       [0.        , 0.        , 0.        , ..., 0.        , 0.        ,\n",
       "        0.        ],\n",
       "       [0.        , 0.        , 0.        , ..., 1.        , 0.        ,\n",
       "        0.        ],\n",
       "       ...,\n",
       "       [0.        , 0.76470588, 0.17647059, ..., 0.05882353, 0.        ,\n",
       "        0.        ],\n",
       "       [0.        , 0.        , 0.        , ..., 0.        , 0.        ,\n",
       "        0.        ],\n",
       "       [0.        , 0.        , 0.        , ..., 0.        , 0.        ,\n",
       "        0.        ]])"
      ]
     },
     "execution_count": 26,
     "metadata": {},
     "output_type": "execute_result"
    }
   ],
   "source": [
    "%time my_clf.predict_proba(X_test)"
   ]
  },
  {
   "cell_type": "code",
   "execution_count": 27,
   "metadata": {},
   "outputs": [
    {
     "data": {
      "text/plain": [
       "0.9571428571428572"
      ]
     },
     "execution_count": 27,
     "metadata": {},
     "output_type": "execute_result"
    }
   ],
   "source": [
    "clf.score(X_test, y_test)"
   ]
  },
  {
   "cell_type": "code",
   "execution_count": 28,
   "metadata": {},
   "outputs": [
    {
     "data": {
      "text/plain": [
       "0.9571428571428572"
      ]
     },
     "execution_count": 28,
     "metadata": {},
     "output_type": "execute_result"
    }
   ],
   "source": [
    "my_clf.score(X_test, y_test)"
   ]
  },
  {
   "cell_type": "markdown",
   "metadata": {},
   "source": [
    "Задание 4"
   ]
  },
  {
   "cell_type": "code",
   "execution_count": 29,
   "metadata": {},
   "outputs": [],
   "source": [
    "clf = KNeighborsClassifier(n_neighbors=K, algorithm='kd_tree')\n",
    "my_clf = MyKNeighborsClassifier(n_neighbors=K, algorithm='kd_tree')"
   ]
  },
  {
   "cell_type": "code",
   "execution_count": 30,
   "metadata": {},
   "outputs": [],
   "source": [
    "X_train, X_test, y_train, y_test = train_test_split(mnist['data'], mnist['target'], test_size=0.01, stratify=mnist['target'])"
   ]
  },
  {
   "cell_type": "code",
   "execution_count": 31,
   "metadata": {},
   "outputs": [
    {
     "name": "stdout",
     "output_type": "stream",
     "text": [
      "Wall time: 29.9 s\n"
     ]
    },
    {
     "data": {
      "text/plain": [
       "KNeighborsClassifier(algorithm='kd_tree', leaf_size=30, metric='minkowski',\n",
       "           metric_params=None, n_jobs=None, n_neighbors=17, p=2,\n",
       "           weights='uniform')"
      ]
     },
     "execution_count": 31,
     "metadata": {},
     "output_type": "execute_result"
    }
   ],
   "source": [
    "%time clf.fit(X_train, y_train)"
   ]
  },
  {
   "cell_type": "code",
   "execution_count": 32,
   "metadata": {},
   "outputs": [
    {
     "name": "stdout",
     "output_type": "stream",
     "text": [
      "Wall time: 29.4 s\n"
     ]
    },
    {
     "data": {
      "text/plain": [
       "MyKNeighborsClassifier(algorithm='kd_tree', n_neighbors=17)"
      ]
     },
     "execution_count": 32,
     "metadata": {},
     "output_type": "execute_result"
    }
   ],
   "source": [
    "%time my_clf.fit(X_train, y_train)"
   ]
  },
  {
   "cell_type": "code",
   "execution_count": 33,
   "metadata": {},
   "outputs": [
    {
     "name": "stdout",
     "output_type": "stream",
     "text": [
      "Wall time: 1min 32s\n"
     ]
    },
    {
     "data": {
      "text/plain": [
       "array([1, 6, 5, 1, 7, 9, 9, 5, 4, 2, 3, 5, 2, 1, 8, 3, 0, 2, 0, 3, 8, 0,\n",
       "       3, 2, 6, 7, 6, 9, 6, 2, 3, 9, 5, 7, 0, 8, 2, 3, 5, 5, 7, 4, 3, 7,\n",
       "       0, 4, 4, 8, 7, 4, 3, 0, 1, 0, 9, 4, 2, 1, 5, 3, 8, 8, 9, 7, 7, 5,\n",
       "       5, 5, 3, 1, 8, 2, 3, 7, 0, 7, 0, 0, 9, 3, 8, 1, 3, 1, 8, 1, 3, 7,\n",
       "       3, 1, 7, 0, 9, 5, 2, 0, 0, 0, 7, 1, 0, 9, 1, 1, 2, 0, 3, 6, 5, 3,\n",
       "       8, 1, 8, 6, 0, 0, 9, 8, 1, 8, 0, 3, 4, 3, 0, 0, 0, 1, 6, 9, 2, 5,\n",
       "       2, 6, 6, 6, 4, 7, 6, 3, 5, 3, 9, 0, 2, 0, 6, 9, 2, 8, 8, 0, 8, 5,\n",
       "       6, 7, 2, 0, 2, 6, 7, 8, 7, 2, 0, 7, 7, 5, 3, 1, 8, 3, 6, 3, 1, 3,\n",
       "       6, 6, 8, 1, 2, 6, 1, 9, 7, 7, 7, 0, 0, 0, 1, 3, 5, 6, 2, 1, 5, 2,\n",
       "       1, 6, 3, 9, 2, 2, 1, 1, 4, 4, 7, 2, 9, 1, 1, 1, 3, 4, 5, 6, 8, 0,\n",
       "       1, 6, 5, 8, 3, 9, 3, 1, 7, 0, 3, 4, 5, 9, 9, 0, 7, 1, 9, 8, 3, 4,\n",
       "       2, 9, 8, 7, 3, 1, 7, 1, 7, 9, 4, 1, 8, 0, 7, 4, 2, 1, 9, 4, 2, 1,\n",
       "       3, 4, 8, 8, 7, 3, 9, 9, 4, 4, 4, 5, 1, 0, 5, 1, 3, 7, 2, 5, 5, 3,\n",
       "       3, 9, 4, 3, 6, 9, 6, 0, 9, 3, 7, 0, 2, 5, 0, 7, 1, 3, 1, 5, 0, 6,\n",
       "       4, 4, 3, 1, 1, 6, 0, 8, 5, 7, 3, 3, 6, 6, 3, 9, 1, 6, 0, 5, 7, 0,\n",
       "       4, 2, 6, 9, 0, 4, 7, 8, 4, 2, 3, 2, 4, 2, 2, 7, 9, 6, 0, 1, 9, 7,\n",
       "       8, 0, 6, 4, 9, 0, 2, 1, 6, 2, 6, 3, 9, 5, 0, 0, 2, 4, 9, 2, 8, 4,\n",
       "       0, 7, 2, 3, 7, 3, 6, 5, 4, 1, 5, 4, 4, 4, 1, 6, 9, 8, 2, 5, 0, 8,\n",
       "       3, 0, 5, 1, 3, 4, 4, 7, 1, 4, 2, 6, 8, 2, 0, 5, 1, 5, 1, 7, 6, 9,\n",
       "       5, 4, 6, 0, 2, 5, 2, 5, 2, 0, 3, 8, 9, 8, 4, 6, 1, 8, 6, 6, 6, 3,\n",
       "       1, 4, 9, 9, 1, 1, 2, 1, 0, 1, 8, 7, 2, 9, 5, 2, 4, 6, 5, 4, 0, 0,\n",
       "       0, 4, 7, 3, 7, 2, 2, 3, 8, 4, 1, 0, 8, 2, 6, 1, 6, 1, 0, 2, 4, 7,\n",
       "       2, 1, 1, 9, 9, 2, 9, 5, 3, 9, 3, 7, 4, 5, 8, 4, 4, 2, 4, 0, 9, 7,\n",
       "       0, 6, 1, 0, 9, 7, 0, 0, 7, 8, 2, 5, 3, 9, 9, 2, 1, 3, 2, 8, 7, 1,\n",
       "       7, 5, 8, 0, 2, 7, 9, 5, 5, 3, 9, 5, 8, 2, 1, 1, 7, 5, 3, 1, 2, 9,\n",
       "       5, 5, 4, 0, 1, 1, 0, 1, 8, 1, 8, 6, 9, 7, 6, 4, 4, 7, 5, 7, 1, 0,\n",
       "       0, 8, 0, 6, 3, 8, 6, 1, 9, 0, 6, 5, 9, 3, 9, 3, 6, 6, 2, 6, 8, 6,\n",
       "       5, 6, 6, 8, 8, 3, 7, 4, 7, 8, 2, 4, 3, 2, 9, 7, 7, 6, 8, 7, 6, 0,\n",
       "       9, 7, 3, 1, 9, 3, 1, 9, 7, 7, 7, 2, 9, 4, 1, 7, 9, 5, 1, 1, 7, 4,\n",
       "       4, 9, 6, 4, 7, 5, 3, 8, 1, 4, 6, 9, 5, 4, 9, 8, 8, 2, 3, 2, 1, 0,\n",
       "       2, 1, 1, 8, 5, 4, 0, 9, 3, 7, 4, 4, 9, 1, 9, 9, 4, 8, 6, 0, 3, 5,\n",
       "       6, 3, 4, 2, 8, 2, 6, 8, 2, 3, 2, 8, 9, 5, 6, 8, 3, 6], dtype=int64)"
      ]
     },
     "execution_count": 33,
     "metadata": {},
     "output_type": "execute_result"
    }
   ],
   "source": [
    "%time clf.predict(X_test)"
   ]
  },
  {
   "cell_type": "code",
   "execution_count": 34,
   "metadata": {},
   "outputs": [
    {
     "name": "stdout",
     "output_type": "stream",
     "text": [
      "Wall time: 1min 17s\n"
     ]
    },
    {
     "data": {
      "text/plain": [
       "array([1, 6, 5, 1, 7, 9, 9, 5, 4, 2, 3, 5, 2, 1, 8, 3, 0, 2, 0, 3, 8, 0,\n",
       "       3, 2, 6, 7, 6, 9, 6, 2, 3, 9, 5, 7, 0, 8, 2, 3, 5, 5, 7, 4, 3, 7,\n",
       "       0, 4, 4, 8, 7, 4, 3, 0, 1, 0, 9, 4, 2, 1, 5, 3, 8, 8, 9, 7, 7, 5,\n",
       "       5, 5, 3, 1, 8, 2, 3, 7, 0, 7, 0, 0, 9, 3, 8, 1, 3, 1, 8, 1, 3, 7,\n",
       "       3, 1, 7, 0, 9, 5, 2, 0, 0, 0, 7, 1, 0, 9, 1, 1, 2, 0, 3, 6, 5, 3,\n",
       "       8, 1, 8, 6, 0, 0, 9, 8, 1, 8, 0, 3, 4, 3, 0, 0, 0, 1, 6, 9, 2, 5,\n",
       "       2, 6, 6, 6, 4, 7, 6, 3, 5, 3, 9, 0, 2, 0, 6, 9, 2, 8, 8, 0, 8, 5,\n",
       "       6, 7, 2, 0, 2, 6, 7, 8, 7, 2, 0, 7, 7, 5, 3, 1, 8, 3, 6, 3, 1, 3,\n",
       "       6, 6, 8, 1, 2, 6, 1, 9, 7, 7, 7, 0, 0, 0, 1, 3, 5, 6, 2, 1, 5, 2,\n",
       "       1, 6, 3, 9, 2, 2, 1, 1, 4, 4, 7, 2, 9, 1, 1, 1, 3, 4, 5, 6, 8, 0,\n",
       "       1, 6, 5, 8, 3, 9, 3, 1, 7, 0, 3, 4, 5, 9, 9, 0, 7, 1, 9, 8, 3, 4,\n",
       "       2, 9, 8, 7, 3, 1, 7, 1, 7, 9, 4, 1, 8, 0, 7, 4, 2, 1, 9, 4, 2, 1,\n",
       "       3, 4, 8, 8, 7, 3, 9, 9, 4, 4, 4, 5, 1, 0, 5, 1, 3, 7, 2, 5, 5, 3,\n",
       "       3, 9, 4, 3, 6, 9, 6, 0, 9, 3, 7, 0, 2, 5, 0, 7, 1, 3, 1, 5, 0, 6,\n",
       "       4, 4, 3, 1, 1, 6, 0, 8, 5, 7, 3, 3, 6, 6, 3, 9, 1, 6, 0, 5, 7, 0,\n",
       "       4, 2, 6, 9, 0, 4, 7, 8, 4, 2, 3, 2, 4, 2, 2, 7, 9, 6, 0, 1, 9, 7,\n",
       "       8, 0, 6, 4, 9, 0, 2, 1, 6, 2, 6, 3, 9, 5, 0, 0, 2, 4, 9, 2, 8, 4,\n",
       "       0, 7, 2, 3, 7, 3, 6, 5, 4, 1, 5, 4, 4, 4, 1, 6, 9, 8, 2, 5, 0, 8,\n",
       "       3, 0, 5, 1, 3, 4, 4, 7, 1, 4, 2, 6, 8, 2, 0, 5, 1, 5, 1, 7, 6, 9,\n",
       "       5, 4, 6, 0, 2, 5, 2, 5, 2, 0, 3, 8, 9, 8, 4, 6, 1, 8, 6, 6, 6, 3,\n",
       "       1, 4, 9, 9, 1, 1, 2, 1, 0, 1, 8, 7, 2, 9, 5, 2, 4, 6, 5, 4, 0, 0,\n",
       "       0, 4, 7, 3, 7, 2, 2, 3, 8, 4, 1, 0, 8, 2, 6, 1, 6, 1, 0, 2, 4, 7,\n",
       "       2, 1, 1, 9, 9, 2, 9, 5, 3, 9, 3, 7, 4, 5, 8, 4, 4, 2, 4, 0, 9, 7,\n",
       "       0, 6, 1, 0, 9, 7, 0, 0, 7, 8, 2, 5, 3, 9, 9, 2, 1, 3, 2, 8, 7, 1,\n",
       "       7, 5, 8, 0, 2, 7, 9, 5, 5, 3, 9, 5, 8, 2, 1, 1, 7, 5, 3, 1, 2, 9,\n",
       "       5, 5, 4, 0, 1, 1, 0, 1, 8, 1, 8, 6, 9, 7, 6, 4, 4, 7, 5, 7, 1, 0,\n",
       "       0, 8, 0, 6, 3, 8, 6, 1, 9, 0, 6, 5, 9, 3, 9, 3, 6, 6, 2, 6, 8, 6,\n",
       "       5, 6, 6, 8, 8, 3, 7, 4, 7, 8, 2, 4, 3, 2, 9, 7, 7, 6, 8, 7, 6, 0,\n",
       "       9, 7, 3, 1, 9, 3, 1, 9, 7, 7, 7, 2, 9, 4, 1, 7, 9, 5, 1, 1, 7, 4,\n",
       "       4, 9, 6, 4, 7, 5, 3, 8, 1, 4, 6, 9, 5, 4, 9, 8, 8, 2, 3, 2, 1, 0,\n",
       "       2, 1, 1, 8, 5, 4, 0, 9, 3, 7, 4, 4, 9, 1, 9, 9, 4, 8, 6, 0, 3, 5,\n",
       "       6, 3, 4, 2, 8, 2, 6, 8, 2, 3, 2, 8, 9, 5, 6, 8, 3, 6], dtype=int64)"
      ]
     },
     "execution_count": 34,
     "metadata": {},
     "output_type": "execute_result"
    }
   ],
   "source": [
    "%time my_clf.predict(X_test)"
   ]
  },
  {
   "cell_type": "code",
   "execution_count": 35,
   "metadata": {},
   "outputs": [
    {
     "name": "stdout",
     "output_type": "stream",
     "text": [
      "Wall time: 1min 34s\n"
     ]
    },
    {
     "data": {
      "text/plain": [
       "array([[0.        , 1.        , 0.        , ..., 0.        , 0.        ,\n",
       "        0.        ],\n",
       "       [0.        , 0.        , 0.        , ..., 0.        , 0.        ,\n",
       "        0.        ],\n",
       "       [0.        , 0.        , 0.        , ..., 0.        , 0.        ,\n",
       "        0.        ],\n",
       "       ...,\n",
       "       [0.05882353, 0.        , 0.        , ..., 0.        , 0.35294118,\n",
       "        0.05882353],\n",
       "       [0.        , 0.        , 0.        , ..., 0.        , 0.        ,\n",
       "        0.        ],\n",
       "       [0.        , 0.        , 0.        , ..., 0.        , 0.        ,\n",
       "        0.        ]])"
      ]
     },
     "execution_count": 35,
     "metadata": {},
     "output_type": "execute_result"
    }
   ],
   "source": [
    "%time clf.predict_proba(X_test)"
   ]
  },
  {
   "cell_type": "code",
   "execution_count": 36,
   "metadata": {},
   "outputs": [
    {
     "name": "stdout",
     "output_type": "stream",
     "text": [
      "Wall time: 1min 18s\n"
     ]
    },
    {
     "data": {
      "text/plain": [
       "array([[0.        , 1.        , 0.        , ..., 0.        , 0.        ,\n",
       "        0.        ],\n",
       "       [0.        , 0.        , 0.        , ..., 0.        , 0.        ,\n",
       "        0.        ],\n",
       "       [0.        , 0.        , 0.        , ..., 0.        , 0.        ,\n",
       "        0.        ],\n",
       "       ...,\n",
       "       [0.05882353, 0.        , 0.        , ..., 0.        , 0.35294118,\n",
       "        0.05882353],\n",
       "       [0.        , 0.        , 0.        , ..., 0.        , 0.        ,\n",
       "        0.        ],\n",
       "       [0.        , 0.        , 0.        , ..., 0.        , 0.        ,\n",
       "        0.        ]])"
      ]
     },
     "execution_count": 36,
     "metadata": {},
     "output_type": "execute_result"
    }
   ],
   "source": [
    "%time my_clf.predict_proba(X_test)"
   ]
  },
  {
   "cell_type": "code",
   "execution_count": 37,
   "metadata": {},
   "outputs": [
    {
     "data": {
      "text/plain": [
       "0.9585714285714285"
      ]
     },
     "execution_count": 37,
     "metadata": {},
     "output_type": "execute_result"
    }
   ],
   "source": [
    "clf.score(X_test, y_test)"
   ]
  },
  {
   "cell_type": "code",
   "execution_count": 38,
   "metadata": {},
   "outputs": [
    {
     "data": {
      "text/plain": [
       "0.9585714285714285"
      ]
     },
     "execution_count": 38,
     "metadata": {},
     "output_type": "execute_result"
    }
   ],
   "source": [
    "my_clf.score(X_test, y_test)"
   ]
  },
  {
   "cell_type": "markdown",
   "metadata": {},
   "source": [
    "Задание 5"
   ]
  },
  {
   "cell_type": "code",
   "execution_count": 39,
   "metadata": {},
   "outputs": [],
   "source": [
    "# seaborn - \n",
    "#    Основанная на matplotlib библиотека с высокоуровневым интерфейсом для визуализации статистических данных\n",
    "# matplotlib - \n",
    "#    Библиотека для визуализации данных двумерной (2D) графикой (3D графика также поддерживается)\n",
    "# train_test_split - \n",
    "#    Разбивает массивы или матрицы (рандомно) на обучающию и тестовую выборки\n",
    "# Pipelin%load_ext e (from sklearn.pipeline import Pipeline) -\n",
    "#    Позволяет объединить последовательность преобразований данных в один объект\n",
    "# StandardScaler (from sklearn.preprocessing import StandardScaler) -\n",
    "#    Преобразует данные таким образом, что mean=0 и std=1\n",
    "# ClassifierMixin\n",
    "#    Класс, в котором есть метод score(mean accuracy), к которому обращаются другие классификаторы из sklearn\n",
    "# NeighborsBase\n",
    "#    Базовый класс для knn-классификаторов\n",
    "# KNeighborsMixin\n",
    "#    Mixin класс, реализующий основные методы knn-классификаторов\n",
    "# SupervisedIntegerMixin\n",
    "#    Mixin класс, реализующий метод fit для NeighborsBase "
   ]
  }
 ],
 "metadata": {
  "kernelspec": {
   "display_name": "Python 3",
   "language": "python",
   "name": "python3"
  },
  "language_info": {
   "codemirror_mode": {
    "name": "ipython",
    "version": 3
   },
   "file_extension": ".py",
   "mimetype": "text/x-python",
   "name": "python",
   "nbconvert_exporter": "python",
   "pygments_lexer": "ipython3",
   "version": "3.7.1"
  }
 },
 "nbformat": 4,
 "nbformat_minor": 2
}
